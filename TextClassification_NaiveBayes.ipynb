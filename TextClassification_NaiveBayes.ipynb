{
 "cells": [
  {
   "cell_type": "markdown",
   "metadata": {},
   "source": [
    "### Text classification using Tf-Idf "
   ]
  },
  {
   "cell_type": "code",
   "execution_count": 1,
   "metadata": {},
   "outputs": [],
   "source": [
    "import json\n",
    "import pandas as pd\n",
    "import re\n",
    "import numpy as np\n",
    "import matplotlib.pyplot as plt\n",
    "import nltk\n",
    "from nltk.corpus import wordnet\n",
    "from nltk import pos_tag, word_tokenize\n",
    "from nltk.corpus import stopwords\n",
    "from sklearn.model_selection import train_test_split\n",
    "from sklearn.feature_extraction.text import TfidfVectorizer\n",
    "from sklearn.naive_bayes import MultinomialNB\n",
    "from sklearn import metrics\n",
    "from sklearn.feature_selection import chi2, SelectKBest "
   ]
  },
  {
   "cell_type": "markdown",
   "metadata": {},
   "source": [
    "#### Reading a subset from Yelp Dataset"
   ]
  },
  {
   "cell_type": "code",
   "execution_count": 2,
   "metadata": {},
   "outputs": [],
   "source": [
    "df_b = pd.read_json('yelp_academic_dataset_review.json', lines=True, chunksize=300000)"
   ]
  },
  {
   "cell_type": "code",
   "execution_count": 3,
   "metadata": {},
   "outputs": [],
   "source": [
    "data=[]\n",
    "for c in df_b:\n",
    "    data=c\n",
    "    break\n",
    "    "
   ]
  },
  {
   "cell_type": "code",
   "execution_count": 4,
   "metadata": {},
   "outputs": [
    {
     "data": {
      "text/plain": [
       "(300000, 9)"
      ]
     },
     "execution_count": 4,
     "metadata": {},
     "output_type": "execute_result"
    }
   ],
   "source": [
    "# Shape of the selected data \n",
    "data.shape"
   ]
  },
  {
   "cell_type": "code",
   "execution_count": 5,
   "metadata": {},
   "outputs": [
    {
     "data": {
      "text/html": [
       "<div>\n",
       "<style scoped>\n",
       "    .dataframe tbody tr th:only-of-type {\n",
       "        vertical-align: middle;\n",
       "    }\n",
       "\n",
       "    .dataframe tbody tr th {\n",
       "        vertical-align: top;\n",
       "    }\n",
       "\n",
       "    .dataframe thead th {\n",
       "        text-align: right;\n",
       "    }\n",
       "</style>\n",
       "<table border=\"1\" class=\"dataframe\">\n",
       "  <thead>\n",
       "    <tr style=\"text-align: right;\">\n",
       "      <th></th>\n",
       "      <th>review_id</th>\n",
       "      <th>user_id</th>\n",
       "      <th>business_id</th>\n",
       "      <th>stars</th>\n",
       "      <th>useful</th>\n",
       "      <th>funny</th>\n",
       "      <th>cool</th>\n",
       "      <th>text</th>\n",
       "      <th>date</th>\n",
       "    </tr>\n",
       "  </thead>\n",
       "  <tbody>\n",
       "    <tr>\n",
       "      <th>299995</th>\n",
       "      <td>0-nk09u6gk4oonzcW4LgMQ</td>\n",
       "      <td>zJfJC--nT-xKLTzdyvroyw</td>\n",
       "      <td>aY-lZvoTHAFl9k6dcfcAxQ</td>\n",
       "      <td>5</td>\n",
       "      <td>0</td>\n",
       "      <td>0</td>\n",
       "      <td>0</td>\n",
       "      <td>Very delicious food and amazing service! I com...</td>\n",
       "      <td>2015-08-12 01:49:19</td>\n",
       "    </tr>\n",
       "    <tr>\n",
       "      <th>299996</th>\n",
       "      <td>gJwywVNsIfFlCKiBQj93uw</td>\n",
       "      <td>8nCmV4RMwf4GpaN-A_2Tfw</td>\n",
       "      <td>Khs3iUmkHce7xpAyOo5kRg</td>\n",
       "      <td>3</td>\n",
       "      <td>1</td>\n",
       "      <td>0</td>\n",
       "      <td>0</td>\n",
       "      <td>Sardella's is my favorite pizza chain in the v...</td>\n",
       "      <td>2012-08-23 16:54:00</td>\n",
       "    </tr>\n",
       "    <tr>\n",
       "      <th>299997</th>\n",
       "      <td>_0Q9Qg3CZJfuLTtH5KkxbA</td>\n",
       "      <td>nKdhohT1D6doq_v0ReBvzQ</td>\n",
       "      <td>m97jaBYRscg-hqDjMVIIWg</td>\n",
       "      <td>2</td>\n",
       "      <td>0</td>\n",
       "      <td>0</td>\n",
       "      <td>0</td>\n",
       "      <td>The Hostess was the worst. Not very inviting i...</td>\n",
       "      <td>2015-08-24 21:33:18</td>\n",
       "    </tr>\n",
       "    <tr>\n",
       "      <th>299998</th>\n",
       "      <td>uc_2Q_UvC0r0AZnERb1k4w</td>\n",
       "      <td>hHuDkGLAOTlR-lLCROotbA</td>\n",
       "      <td>Xs2iTWxbczvfEapAFH3cyw</td>\n",
       "      <td>5</td>\n",
       "      <td>0</td>\n",
       "      <td>1</td>\n",
       "      <td>0</td>\n",
       "      <td>Moved to a new neighborhood = hunt for a new b...</td>\n",
       "      <td>2015-10-23 02:06:21</td>\n",
       "    </tr>\n",
       "    <tr>\n",
       "      <th>299999</th>\n",
       "      <td>Q_2ppaCk3go14WNSXUB1Rg</td>\n",
       "      <td>usfq6zK3yG1IA0V5k6XHyQ</td>\n",
       "      <td>mP5qGYKMpy5WWe5BVN5dig</td>\n",
       "      <td>5</td>\n",
       "      <td>1</td>\n",
       "      <td>0</td>\n",
       "      <td>0</td>\n",
       "      <td>This is the best mechanic experience I have ha...</td>\n",
       "      <td>2017-01-07 00:34:54</td>\n",
       "    </tr>\n",
       "  </tbody>\n",
       "</table>\n",
       "</div>"
      ],
      "text/plain": [
       "                     review_id                 user_id  \\\n",
       "299995  0-nk09u6gk4oonzcW4LgMQ  zJfJC--nT-xKLTzdyvroyw   \n",
       "299996  gJwywVNsIfFlCKiBQj93uw  8nCmV4RMwf4GpaN-A_2Tfw   \n",
       "299997  _0Q9Qg3CZJfuLTtH5KkxbA  nKdhohT1D6doq_v0ReBvzQ   \n",
       "299998  uc_2Q_UvC0r0AZnERb1k4w  hHuDkGLAOTlR-lLCROotbA   \n",
       "299999  Q_2ppaCk3go14WNSXUB1Rg  usfq6zK3yG1IA0V5k6XHyQ   \n",
       "\n",
       "                   business_id  stars  useful  funny  cool  \\\n",
       "299995  aY-lZvoTHAFl9k6dcfcAxQ      5       0      0     0   \n",
       "299996  Khs3iUmkHce7xpAyOo5kRg      3       1      0     0   \n",
       "299997  m97jaBYRscg-hqDjMVIIWg      2       0      0     0   \n",
       "299998  Xs2iTWxbczvfEapAFH3cyw      5       0      1     0   \n",
       "299999  mP5qGYKMpy5WWe5BVN5dig      5       1      0     0   \n",
       "\n",
       "                                                     text                date  \n",
       "299995  Very delicious food and amazing service! I com... 2015-08-12 01:49:19  \n",
       "299996  Sardella's is my favorite pizza chain in the v... 2012-08-23 16:54:00  \n",
       "299997  The Hostess was the worst. Not very inviting i... 2015-08-24 21:33:18  \n",
       "299998  Moved to a new neighborhood = hunt for a new b... 2015-10-23 02:06:21  \n",
       "299999  This is the best mechanic experience I have ha... 2017-01-07 00:34:54  "
      ]
     },
     "execution_count": 5,
     "metadata": {},
     "output_type": "execute_result"
    }
   ],
   "source": [
    "# LAst 5 rows of the data\n",
    "data.tail()"
   ]
  },
  {
   "cell_type": "code",
   "execution_count": 6,
   "metadata": {},
   "outputs": [
    {
     "data": {
      "text/plain": [
       "\"The food has always been good and the service just keeps getting better.  They recently remodeled the building, so it's very modern/clean looking.  They always give you a heaping mound of each dish, so you never feel you're not getting your money's worth.  There's an extra $0.50 or $1.00 for some of the more premium items (shrimp, added bacon, etc) but it's always worth it.  I wouldn't want to eat there every day, but I'm always happy when I get the chance.\""
      ]
     },
     "execution_count": 6,
     "metadata": {},
     "output_type": "execute_result"
    }
   ],
   "source": [
    "# Review comment of a random record\n",
    "\n",
    "data.iloc[3456,7]\n"
   ]
  },
  {
   "cell_type": "code",
   "execution_count": 7,
   "metadata": {},
   "outputs": [
    {
     "name": "stdout",
     "output_type": "stream",
     "text": [
      "Count of different ratings:\n",
      "  stars\n",
      "1     41433\n",
      "2     24493\n",
      "3     33588\n",
      "4     68426\n",
      "5    132060\n",
      "dtype: int64\n"
     ]
    },
    {
     "data": {
      "image/png": "[encoded data removed]",
      "text/plain": [
       "<Figure size 432x288 with 1 Axes>"
      ]
     },
     "metadata": {
      "needs_background": "light"
     },
     "output_type": "display_data"
    }
   ],
   "source": [
    "\n",
    "r=data.groupby('stars').size()\n",
    "print(\"Count of different ratings:\\n \",r)\n",
    "r.plot.bar(color='brown');\n",
    "\n",
    "# Data is unbalanced with less records with ratings 2 and 3 and maximum of rating 5"
   ]
  },
  {
   "cell_type": "code",
   "execution_count": 8,
   "metadata": {},
   "outputs": [
    {
     "data": {
      "text/plain": [
       "(100764, 9)"
      ]
     },
     "execution_count": 8,
     "metadata": {},
     "output_type": "execute_result"
    }
   ],
   "source": [
    "# Balancing the data, considering ratings would be clubbed later on\n",
    "\n",
    "d1=data[data.stars==1].sample(16794, replace=False)\n",
    "d2=data[data.stars==2].sample(16794, replace=False)\n",
    "d3=data[data.stars==3].sample(33588, replace=False)\n",
    "d4=data[data.stars==4].sample(16794, replace=False)\n",
    "d5=data[data.stars==5].sample(16794, replace=False)\n",
    "\n",
    "data=pd.concat([d1,d2,d3,d4,d5])\n",
    "\n",
    "data.shape"
   ]
  },
  {
   "cell_type": "code",
   "execution_count": 9,
   "metadata": {},
   "outputs": [],
   "source": [
    "pd.options.display.float_format = '{:,.2f}'.format"
   ]
  },
  {
   "cell_type": "code",
   "execution_count": 10,
   "metadata": {},
   "outputs": [
    {
     "data": {
      "text/html": [
       "<div>\n",
       "<style scoped>\n",
       "    .dataframe tbody tr th:only-of-type {\n",
       "        vertical-align: middle;\n",
       "    }\n",
       "\n",
       "    .dataframe tbody tr th {\n",
       "        vertical-align: top;\n",
       "    }\n",
       "\n",
       "    .dataframe thead th {\n",
       "        text-align: right;\n",
       "    }\n",
       "</style>\n",
       "<table border=\"1\" class=\"dataframe\">\n",
       "  <thead>\n",
       "    <tr style=\"text-align: right;\">\n",
       "      <th></th>\n",
       "      <th>stars</th>\n",
       "      <th>useful</th>\n",
       "      <th>funny</th>\n",
       "      <th>cool</th>\n",
       "    </tr>\n",
       "  </thead>\n",
       "  <tbody>\n",
       "    <tr>\n",
       "      <th>count</th>\n",
       "      <td>100,764.00</td>\n",
       "      <td>100,764.00</td>\n",
       "      <td>100,764.00</td>\n",
       "      <td>100,764.00</td>\n",
       "    </tr>\n",
       "    <tr>\n",
       "      <th>mean</th>\n",
       "      <td>3.00</td>\n",
       "      <td>1.18</td>\n",
       "      <td>0.43</td>\n",
       "      <td>0.42</td>\n",
       "    </tr>\n",
       "    <tr>\n",
       "      <th>std</th>\n",
       "      <td>1.29</td>\n",
       "      <td>2.33</td>\n",
       "      <td>1.41</td>\n",
       "      <td>1.33</td>\n",
       "    </tr>\n",
       "    <tr>\n",
       "      <th>min</th>\n",
       "      <td>1.00</td>\n",
       "      <td>0.00</td>\n",
       "      <td>0.00</td>\n",
       "      <td>0.00</td>\n",
       "    </tr>\n",
       "    <tr>\n",
       "      <th>25%</th>\n",
       "      <td>2.00</td>\n",
       "      <td>0.00</td>\n",
       "      <td>0.00</td>\n",
       "      <td>0.00</td>\n",
       "    </tr>\n",
       "    <tr>\n",
       "      <th>50%</th>\n",
       "      <td>3.00</td>\n",
       "      <td>0.00</td>\n",
       "      <td>0.00</td>\n",
       "      <td>0.00</td>\n",
       "    </tr>\n",
       "    <tr>\n",
       "      <th>75%</th>\n",
       "      <td>4.00</td>\n",
       "      <td>1.00</td>\n",
       "      <td>0.00</td>\n",
       "      <td>0.00</td>\n",
       "    </tr>\n",
       "    <tr>\n",
       "      <th>max</th>\n",
       "      <td>5.00</td>\n",
       "      <td>76.00</td>\n",
       "      <td>65.00</td>\n",
       "      <td>55.00</td>\n",
       "    </tr>\n",
       "  </tbody>\n",
       "</table>\n",
       "</div>"
      ],
      "text/plain": [
       "           stars     useful      funny       cool\n",
       "count 100,764.00 100,764.00 100,764.00 100,764.00\n",
       "mean        3.00       1.18       0.43       0.42\n",
       "std         1.29       2.33       1.41       1.33\n",
       "min         1.00       0.00       0.00       0.00\n",
       "25%         2.00       0.00       0.00       0.00\n",
       "50%         3.00       0.00       0.00       0.00\n",
       "75%         4.00       1.00       0.00       0.00\n",
       "max         5.00      76.00      65.00      55.00"
      ]
     },
     "execution_count": 10,
     "metadata": {},
     "output_type": "execute_result"
    }
   ],
   "source": [
    "data.describe()\n",
    "\n",
    "# Data is categorical, so not much useful info gained apart from the range"
   ]
  },
  {
   "cell_type": "markdown",
   "metadata": {},
   "source": [
    "#### Pre-processing the Text"
   ]
  },
  {
   "cell_type": "code",
   "execution_count": 12,
   "metadata": {},
   "outputs": [],
   "source": [
    "# Function to remove the word contractions, like convert isn't to is not\n",
    "def decontracted(phrase):\n",
    "    # specific\n",
    "    phrase = re.sub(r\"won\\'t\", \"will not\", phrase)\n",
    "    phrase = re.sub(r\"can\\'t\", \"can not\", phrase)\n",
    "    phrase = re.sub(r\"ain\\'t\", \"am not\", phrase) \n",
    "    \n",
    "    # general\n",
    "    phrase = re.sub(r\"n\\'t\", \" not\", phrase)\n",
    "    phrase = re.sub(r\"\\'re\", \" are\", phrase)\n",
    "    phrase = re.sub(r\"\\'s\", \" is\", phrase)\n",
    "    phrase = re.sub(r\"\\'d\", \" would\", phrase)\n",
    "    phrase = re.sub(r\"\\'ll\", \" will\", phrase)\n",
    "    phrase = re.sub(r\"\\'t\", \" not\", phrase)\n",
    "    phrase = re.sub(r\"\\'ve\", \" have\", phrase)\n",
    "    phrase = re.sub(r\"\\'m\", \" am\", phrase)\n",
    "    return phrase"
   ]
  },
  {
   "cell_type": "code",
   "execution_count": 13,
   "metadata": {},
   "outputs": [],
   "source": [
    "def get_wordnet_pos(treebank_tag):\n",
    "    if treebank_tag.startswith('J'):\n",
    "        return wordnet.ADJ\n",
    "    elif treebank_tag.startswith('V'):\n",
    "        return wordnet.VERB\n",
    "    elif treebank_tag.startswith('N'):\n",
    "        return wordnet.NOUN\n",
    "    elif treebank_tag.startswith('R'):\n",
    "        return wordnet.ADV\n",
    "    else:\n",
    "        return None"
   ]
  },
  {
   "cell_type": "code",
   "execution_count": 14,
   "metadata": {},
   "outputs": [],
   "source": [
    "# Function to lemmatize - converting a word to its root\n",
    "def lemmatise(phrase):\n",
    "    arr=[]\n",
    "    t=pos_tag(word_tokenize(phrase))\n",
    "    for a in t:\n",
    "        postag=get_wordnet_pos(a[1])\n",
    "        if not postag:\n",
    "            continue\n",
    "        p=nltk.stem.WordNetLemmatizer().lemmatize(a[0],pos=postag)\n",
    "        arr.append(p)\n",
    "    return arr"
   ]
  },
  {
   "cell_type": "code",
   "execution_count": 15,
   "metadata": {},
   "outputs": [],
   "source": [
    "# Function to remove stopwords excluding the negations like not, no \n",
    "\n",
    "def rem_stopwords(phrase):\n",
    "    sw=stopwords.words('english')\n",
    "    sw.remove('no')\n",
    "    sw.remove('not')\n",
    "    sw.remove('nor')\n",
    "    phrase = [word for word in phrase if word not in sw]\n",
    "    return phrase"
   ]
  },
  {
   "cell_type": "code",
   "execution_count": 16,
   "metadata": {},
   "outputs": [],
   "source": [
    "\n",
    "\n",
    "def text_cleanup(text):\n",
    "    \n",
    "    text= decontracted(text)\n",
    "    text = re.sub(r'[^\\w\\s]', '', str(text).lower()) # Regex to remove punctuations and convert to lowercase\n",
    "    text=lemmatise(text)\n",
    "    text=rem_stopwords(text)\n",
    "    text = \" \".join(text)\n",
    "    return text"
   ]
  },
  {
   "cell_type": "code",
   "execution_count": 17,
   "metadata": {},
   "outputs": [],
   "source": [
    "# Cleaning the text to whole of the dataset\n",
    "data['text_clean']=data['text'].apply(lambda x: text_cleanup(x))"
   ]
  },
  {
   "cell_type": "code",
   "execution_count": 18,
   "metadata": {},
   "outputs": [],
   "source": [
    "# Removing all columns except processed text and ratings\n",
    "\n",
    "data.drop(['review_id','user_id','date','business_id','text','useful','funny','cool'],axis=1,inplace=True);"
   ]
  },
  {
   "cell_type": "code",
   "execution_count": 19,
   "metadata": {},
   "outputs": [
    {
     "data": {
      "text/html": [
       "<div>\n",
       "<style scoped>\n",
       "    .dataframe tbody tr th:only-of-type {\n",
       "        vertical-align: middle;\n",
       "    }\n",
       "\n",
       "    .dataframe tbody tr th {\n",
       "        vertical-align: top;\n",
       "    }\n",
       "\n",
       "    .dataframe thead th {\n",
       "        text-align: right;\n",
       "    }\n",
       "</style>\n",
       "<table border=\"1\" class=\"dataframe\">\n",
       "  <thead>\n",
       "    <tr style=\"text-align: right;\">\n",
       "      <th></th>\n",
       "      <th>stars</th>\n",
       "      <th>text_clean</th>\n",
       "    </tr>\n",
       "  </thead>\n",
       "  <tbody>\n",
       "    <tr>\n",
       "      <th>87078</th>\n",
       "      <td>1</td>\n",
       "      <td>give star not make statement racial issue toni...</td>\n",
       "    </tr>\n",
       "    <tr>\n",
       "      <th>105130</th>\n",
       "      <td>1</td>\n",
       "      <td>walgreens photo center bad run place third tim...</td>\n",
       "    </tr>\n",
       "    <tr>\n",
       "      <th>119744</th>\n",
       "      <td>1</td>\n",
       "      <td>not take bite food already know not back incap...</td>\n",
       "    </tr>\n",
       "    <tr>\n",
       "      <th>22667</th>\n",
       "      <td>1</td>\n",
       "      <td>guy really want dollar hour continue mess orde...</td>\n",
       "    </tr>\n",
       "    <tr>\n",
       "      <th>165913</th>\n",
       "      <td>1</td>\n",
       "      <td>place awful not know store manager mike mess a...</td>\n",
       "    </tr>\n",
       "  </tbody>\n",
       "</table>\n",
       "</div>"
      ],
      "text/plain": [
       "        stars                                         text_clean\n",
       "87078       1  give star not make statement racial issue toni...\n",
       "105130      1  walgreens photo center bad run place third tim...\n",
       "119744      1  not take bite food already know not back incap...\n",
       "22667       1  guy really want dollar hour continue mess orde...\n",
       "165913      1  place awful not know store manager mike mess a..."
      ]
     },
     "execution_count": 19,
     "metadata": {},
     "output_type": "execute_result"
    }
   ],
   "source": [
    "data.head()"
   ]
  },
  {
   "cell_type": "code",
   "execution_count": 20,
   "metadata": {},
   "outputs": [],
   "source": [
    "# Seperating feature and label\n",
    "X=data.loc[:,'text_clean']\n",
    "y=data.loc[:,'stars']"
   ]
  },
  {
   "cell_type": "code",
   "execution_count": 22,
   "metadata": {},
   "outputs": [],
   "source": [
    "# Combining classes with final 3 class of ratings - 0, 1 and 2, not used one hot encoding to maintain ordinality\n",
    "result = y.replace(to_replace = [1,2], value = 0, inplace=True) \n",
    "result = y.replace(to_replace = [4,5], value = 2, inplace=True) \n",
    "result = y.replace(to_replace = [3], value = 1, inplace=True) "
   ]
  },
  {
   "cell_type": "code",
   "execution_count": 23,
   "metadata": {},
   "outputs": [
    {
     "data": {
      "text/plain": [
       "2    33588\n",
       "1    33588\n",
       "0    33588\n",
       "Name: stars, dtype: int64"
      ]
     },
     "execution_count": 23,
     "metadata": {},
     "output_type": "execute_result"
    }
   ],
   "source": [
    "# Count of different ratings - data is balanced\n",
    "y.value_counts()"
   ]
  },
  {
   "cell_type": "code",
   "execution_count": 24,
   "metadata": {},
   "outputs": [],
   "source": [
    "X_train, X_test, y_train, y_test = train_test_split(X, y, test_size=0.3, random_state=42, stratify=y)"
   ]
  },
  {
   "cell_type": "markdown",
   "metadata": {},
   "source": [
    "#### Building Model"
   ]
  },
  {
   "cell_type": "code",
   "execution_count": 81,
   "metadata": {},
   "outputs": [],
   "source": [
    "# using Tf-Idf Vectorizer for creating features and give values to features per document\n",
    "\n",
    "tfidfv=TfidfVectorizer(min_df=1, max_df=0.5,ngram_range=(1,2),max_features=50000)\n",
    "X_train_tfidfv = tfidfv.fit_transform(X_train)"
   ]
  },
  {
   "cell_type": "code",
   "execution_count": 82,
   "metadata": {},
   "outputs": [
    {
     "name": "stdout",
     "output_type": "stream",
     "text": [
      "(70534, 50000)\n"
     ]
    }
   ],
   "source": [
    "#  Taining Reviews are now condensed into 20k features \n",
    "print(X_train_tfidfv.shape)"
   ]
  },
  {
   "cell_type": "code",
   "execution_count": 84,
   "metadata": {},
   "outputs": [],
   "source": [
    "# Using chi square to further reduce no of features\n",
    "chi2_features = SelectKBest(chi2, k = 30000) \n",
    "X_train_kbest_features = chi2_features.fit_transform(X_train_tfidfv, y_train) "
   ]
  },
  {
   "cell_type": "code",
   "execution_count": 85,
   "metadata": {},
   "outputs": [
    {
     "data": {
      "text/plain": [
       "(70534, 30000)"
      ]
     },
     "execution_count": 85,
     "metadata": {},
     "output_type": "execute_result"
    }
   ],
   "source": [
    "X_train_kbest_features.shape"
   ]
  },
  {
   "cell_type": "code",
   "execution_count": 86,
   "metadata": {},
   "outputs": [
    {
     "data": {
      "text/plain": [
       "MultinomialNB()"
      ]
     },
     "execution_count": 86,
     "metadata": {},
     "output_type": "execute_result"
    }
   ],
   "source": [
    "# training the model\n",
    "\n",
    "clf = MultinomialNB()\n",
    "clf.fit(X_train_kbest_features, y_train)"
   ]
  },
  {
   "cell_type": "markdown",
   "metadata": {},
   "source": [
    "#### Predicting test data "
   ]
  },
  {
   "cell_type": "code",
   "execution_count": 87,
   "metadata": {},
   "outputs": [],
   "source": [
    "# Transforming the data through already fitted tfidf object\n",
    "\n",
    "X_test_tfidfv = tfidfv.transform(X_test)"
   ]
  },
  {
   "cell_type": "code",
   "execution_count": 88,
   "metadata": {},
   "outputs": [
    {
     "name": "stdout",
     "output_type": "stream",
     "text": [
      "(30230, 50000)\n"
     ]
    }
   ],
   "source": [
    "# Shape of transformed test data\n",
    "print(X_test_tfidfv.shape)"
   ]
  },
  {
   "cell_type": "code",
   "execution_count": 89,
   "metadata": {},
   "outputs": [],
   "source": [
    "# Transforming the data through already fitted SelectKbest object\n",
    "X_test_bestfeatures = chi2_features.transform(X_test_tfidfv) "
   ]
  },
  {
   "cell_type": "code",
   "execution_count": 90,
   "metadata": {},
   "outputs": [
    {
     "name": "stdout",
     "output_type": "stream",
     "text": [
      "(30230, 30000)\n"
     ]
    }
   ],
   "source": [
    "# Shape of data after chi square feature selection \n",
    "\n",
    "print(X_test_bestfeatures.shape)"
   ]
  },
  {
   "cell_type": "code",
   "execution_count": 91,
   "metadata": {},
   "outputs": [],
   "source": [
    "# Predicting the test data\n",
    "y_pred = clf.predict(X_test_bestfeatures)"
   ]
  },
  {
   "cell_type": "code",
   "execution_count": 92,
   "metadata": {},
   "outputs": [
    {
     "name": "stdout",
     "output_type": "stream",
     "text": [
      "              precision    recall  f1-score   support\n",
      "\n",
      "           0       0.73      0.71      0.72     10076\n",
      "           1       0.59      0.67      0.63     10077\n",
      "           2       0.83      0.73      0.78     10077\n",
      "\n",
      "    accuracy                           0.71     30230\n",
      "   macro avg       0.72      0.71      0.71     30230\n",
      "weighted avg       0.72      0.71      0.71     30230\n",
      "\n"
     ]
    }
   ],
   "source": [
    "# Evaluating the model\n",
    "\n",
    "print(metrics.classification_report(y_test,y_pred))"
   ]
  },
  {
   "cell_type": "code",
   "execution_count": 93,
   "metadata": {},
   "outputs": [
    {
     "data": {
      "text/plain": [
       "(array([0, 1, 2], dtype=int64), array([ 9806, 11519,  8905], dtype=int64))"
      ]
     },
     "execution_count": 93,
     "metadata": {},
     "output_type": "execute_result"
    }
   ],
   "source": [
    "# Total number of predictions across each class\n",
    "np.unique(y_pred,return_counts=True)"
   ]
  },
  {
   "cell_type": "markdown",
   "metadata": {},
   "source": [
    "##### Analysing and classifying a single review "
   ]
  },
  {
   "cell_type": "code",
   "execution_count": 94,
   "metadata": {},
   "outputs": [],
   "source": [
    "string=\"'ABSOLUTELY HORRIFIC. We waited 15 minutes just to get water, OVER 20 for soy sauce (which we never got) spent 60$ for 3 disgusting rolls. Save your money, we were excited for sushi in Vegas. I would have rather spent 60 gambling and lost it all. This place should be out of business already.'\"\n",
    "\n",
    "str_clean=(text_cleanup(string))"
   ]
  },
  {
   "cell_type": "code",
   "execution_count": 95,
   "metadata": {},
   "outputs": [
    {
     "name": "stdout",
     "output_type": "stream",
     "text": [
      "Text after processing:\n",
      "  absolutely horrific wait minute get water soy sauce never get spent disgust roll save money excite sushi vega rather spend gambling lose place business already\n"
     ]
    }
   ],
   "source": [
    "print(\"Text after processing:\\n \",(str_clean))"
   ]
  },
  {
   "cell_type": "code",
   "execution_count": 96,
   "metadata": {},
   "outputs": [],
   "source": [
    "# Transforming the text using tfidf vectorizer\n",
    "str_tfidf = tfidfv.transform([str_clean])"
   ]
  },
  {
   "cell_type": "code",
   "execution_count": 97,
   "metadata": {},
   "outputs": [],
   "source": [
    "# Selecting best features using SelectKbest\n",
    "str_best_features = chi2_features.transform(str_tfidf) "
   ]
  },
  {
   "cell_type": "code",
   "execution_count": 98,
   "metadata": {},
   "outputs": [],
   "source": [
    "# Selecting list of K best features\n",
    "mask = chi2_features.get_support()\n",
    "new_features = [] \n",
    "\n",
    "for bool, feature in zip(mask, tfidfv.get_feature_names()):\n",
    "    if bool:\n",
    "        new_features.append(feature)\n",
    " \n",
    "# Creating a Dataframe with tfidf values against K best features\n",
    "        \n",
    "fr=pd.DataFrame(str_best_features.toarray(),columns=new_features)\n",
    "fr=fr.transpose()\n",
    "\n"
   ]
  },
  {
   "cell_type": "code",
   "execution_count": 99,
   "metadata": {},
   "outputs": [
    {
     "data": {
      "text/html": [
       "<div>\n",
       "<style scoped>\n",
       "    .dataframe tbody tr th:only-of-type {\n",
       "        vertical-align: middle;\n",
       "    }\n",
       "\n",
       "    .dataframe tbody tr th {\n",
       "        vertical-align: top;\n",
       "    }\n",
       "\n",
       "    .dataframe thead th {\n",
       "        text-align: right;\n",
       "    }\n",
       "</style>\n",
       "<table border=\"1\" class=\"dataframe\">\n",
       "  <thead>\n",
       "    <tr style=\"text-align: right;\">\n",
       "      <th></th>\n",
       "      <th>0</th>\n",
       "    </tr>\n",
       "  </thead>\n",
       "  <tbody>\n",
       "    <tr>\n",
       "      <th>place business</th>\n",
       "      <td>0.26</td>\n",
       "    </tr>\n",
       "    <tr>\n",
       "      <th>rather spend</th>\n",
       "      <td>0.26</td>\n",
       "    </tr>\n",
       "    <tr>\n",
       "      <th>gambling</th>\n",
       "      <td>0.25</td>\n",
       "    </tr>\n",
       "    <tr>\n",
       "      <th>horrific</th>\n",
       "      <td>0.25</td>\n",
       "    </tr>\n",
       "    <tr>\n",
       "      <th>get water</th>\n",
       "      <td>0.22</td>\n",
       "    </tr>\n",
       "    <tr>\n",
       "      <th>soy sauce</th>\n",
       "      <td>0.22</td>\n",
       "    </tr>\n",
       "    <tr>\n",
       "      <th>spent</th>\n",
       "      <td>0.22</td>\n",
       "    </tr>\n",
       "    <tr>\n",
       "      <th>save money</th>\n",
       "      <td>0.20</td>\n",
       "    </tr>\n",
       "    <tr>\n",
       "      <th>soy</th>\n",
       "      <td>0.20</td>\n",
       "    </tr>\n",
       "    <tr>\n",
       "      <th>never get</th>\n",
       "      <td>0.19</td>\n",
       "    </tr>\n",
       "    <tr>\n",
       "      <th>minute get</th>\n",
       "      <td>0.18</td>\n",
       "    </tr>\n",
       "    <tr>\n",
       "      <th>disgust</th>\n",
       "      <td>0.18</td>\n",
       "    </tr>\n",
       "    <tr>\n",
       "      <th>excite</th>\n",
       "      <td>0.16</td>\n",
       "    </tr>\n",
       "    <tr>\n",
       "      <th>lose</th>\n",
       "      <td>0.16</td>\n",
       "    </tr>\n",
       "    <tr>\n",
       "      <th>wait minute</th>\n",
       "      <td>0.16</td>\n",
       "    </tr>\n",
       "    <tr>\n",
       "      <th>save</th>\n",
       "      <td>0.15</td>\n",
       "    </tr>\n",
       "    <tr>\n",
       "      <th>rather</th>\n",
       "      <td>0.14</td>\n",
       "    </tr>\n",
       "    <tr>\n",
       "      <th>already</th>\n",
       "      <td>0.14</td>\n",
       "    </tr>\n",
       "    <tr>\n",
       "      <th>absolutely</th>\n",
       "      <td>0.14</td>\n",
       "    </tr>\n",
       "    <tr>\n",
       "      <th>sushi</th>\n",
       "      <td>0.14</td>\n",
       "    </tr>\n",
       "    <tr>\n",
       "      <th>spend</th>\n",
       "      <td>0.14</td>\n",
       "    </tr>\n",
       "    <tr>\n",
       "      <th>roll</th>\n",
       "      <td>0.13</td>\n",
       "    </tr>\n",
       "    <tr>\n",
       "      <th>business</th>\n",
       "      <td>0.13</td>\n",
       "    </tr>\n",
       "    <tr>\n",
       "      <th>vega</th>\n",
       "      <td>0.13</td>\n",
       "    </tr>\n",
       "    <tr>\n",
       "      <th>money</th>\n",
       "      <td>0.13</td>\n",
       "    </tr>\n",
       "    <tr>\n",
       "      <th>water</th>\n",
       "      <td>0.13</td>\n",
       "    </tr>\n",
       "    <tr>\n",
       "      <th>get</th>\n",
       "      <td>0.12</td>\n",
       "    </tr>\n",
       "    <tr>\n",
       "      <th>sauce</th>\n",
       "      <td>0.11</td>\n",
       "    </tr>\n",
       "    <tr>\n",
       "      <th>minute</th>\n",
       "      <td>0.10</td>\n",
       "    </tr>\n",
       "    <tr>\n",
       "      <th>never</th>\n",
       "      <td>0.10</td>\n",
       "    </tr>\n",
       "    <tr>\n",
       "      <th>wait</th>\n",
       "      <td>0.09</td>\n",
       "    </tr>\n",
       "    <tr>\n",
       "      <th>place</th>\n",
       "      <td>0.06</td>\n",
       "    </tr>\n",
       "  </tbody>\n",
       "</table>\n",
       "</div>"
      ],
      "text/plain": [
       "                  0\n",
       "place business 0.26\n",
       "rather spend   0.26\n",
       "gambling       0.25\n",
       "horrific       0.25\n",
       "get water      0.22\n",
       "soy sauce      0.22\n",
       "spent          0.22\n",
       "save money     0.20\n",
       "soy            0.20\n",
       "never get      0.19\n",
       "minute get     0.18\n",
       "disgust        0.18\n",
       "excite         0.16\n",
       "lose           0.16\n",
       "wait minute    0.16\n",
       "save           0.15\n",
       "rather         0.14\n",
       "already        0.14\n",
       "absolutely     0.14\n",
       "sushi          0.14\n",
       "spend          0.14\n",
       "roll           0.13\n",
       "business       0.13\n",
       "vega           0.13\n",
       "money          0.13\n",
       "water          0.13\n",
       "get            0.12\n",
       "sauce          0.11\n",
       "minute         0.10\n",
       "never          0.10\n",
       "wait           0.09\n",
       "place          0.06"
      ]
     },
     "execution_count": 99,
     "metadata": {},
     "output_type": "execute_result"
    }
   ],
   "source": [
    "# Displaying list of values assigned to features in descending order specific to the review\n",
    "fr[fr[0]>0].sort_values(by=[0], ascending=False)\n",
    "\n",
    "# Keywords like horrific,disgust got good values, but not for example wait. Likewise few bigrams like 'never get' is good but few like absolutely horrific wasn't in features "
   ]
  },
  {
   "cell_type": "code",
   "execution_count": 100,
   "metadata": {},
   "outputs": [
    {
     "name": "stdout",
     "output_type": "stream",
     "text": [
      "[0]\n"
     ]
    }
   ],
   "source": [
    "# Predicting the rating for the review\n",
    "y_pred = clf.predict(str_best_features)\n",
    "print(y_pred)\n",
    "\n",
    "# Value predicted correctly, 0 is for a bad review"
   ]
  },
  {
   "cell_type": "markdown",
   "metadata": {},
   "source": [
    "#### Conclusion"
   ]
  },
  {
   "cell_type": "markdown",
   "metadata": {},
   "source": [
    "Multi-class Text classification using basic bag of words approach and basic MultinomialNB gives overall accuracy of around 0.7. "
   ]
  }
 ],
 "metadata": {
  "kernelspec": {
   "display_name": "Python 3",
   "language": "python",
   "name": "python3"
  },
  "language_info": {
   "codemirror_mode": {
    "name": "ipython",
    "version": 3
   },
   "file_extension": ".py",
   "mimetype": "text/x-python",
   "name": "python",
   "nbconvert_exporter": "python",
   "pygments_lexer": "ipython3",
   "version": "3.7.6"
  }
 },
 "nbformat": 4,
 "nbformat_minor": 4
}
