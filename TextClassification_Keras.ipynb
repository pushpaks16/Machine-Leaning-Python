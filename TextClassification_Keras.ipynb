{
 "cells": [
  {
   "cell_type": "markdown",
   "metadata": {},
   "source": [
    "### Text classification using Tf-Idf"
   ]
  },
  {
   "cell_type": "code",
   "execution_count": 7,
   "metadata": {},
   "outputs": [],
   "source": [
    "import json\n",
    "import pandas as pd\n",
    "import re\n",
    "import numpy as np\n",
    "import matplotlib.pyplot as plt\n",
    "import nltk\n",
    "from nltk.corpus import wordnet\n",
    "from nltk import pos_tag, word_tokenize\n",
    "from nltk.corpus import stopwords\n",
    "from sklearn.model_selection import train_test_split\n",
    "from sklearn.feature_extraction.text import TfidfVectorizer\n",
    "\n",
    "from sklearn import metrics\n",
    "\n",
    "import tensorflow as tf\n",
    "import warnings\n",
    "warnings.filterwarnings('ignore')\n",
    "\n",
    "from datetime import datetime\n",
    "from tensorflow.keras import Model, Sequential\n",
    "from keras.preprocessing.text import Tokenizer\n",
    "from keras.preprocessing.sequence import pad_sequences\n",
    "\n",
    "from tensorflow.keras.layers import Activation, Dense, Embedding, GlobalAveragePooling1D, Dropout, MaxPooling1D, Conv1D, LSTM\n",
    "from tensorflow.keras.layers.experimental.preprocessing import TextVectorization\n",
    "from keras.preprocessing.text import text_to_word_sequence\n",
    "from tensorflow.keras import regularizers\n",
    "from tensorflow.keras.layers import Flatten"
   ]
  },
  {
   "cell_type": "markdown",
   "metadata": {},
   "source": [
    "#### Reading a subset from Yelp Dataset"
   ]
  },
  {
   "cell_type": "code",
   "execution_count": 8,
   "metadata": {},
   "outputs": [],
   "source": [
    "df_b = pd.read_json('yelp_academic_dataset_review.json', lines=True, chunksize=300000)"
   ]
  },
  {
   "cell_type": "code",
   "execution_count": 9,
   "metadata": {},
   "outputs": [],
   "source": [
    "data=[]\n",
    "for c in df_b:\n",
    "    data=c\n",
    "    break\n",
    "    "
   ]
  },
  {
   "cell_type": "code",
   "execution_count": 10,
   "metadata": {},
   "outputs": [
    {
     "data": {
      "text/plain": [
       "(300000, 9)"
      ]
     },
     "execution_count": 10,
     "metadata": {},
     "output_type": "execute_result"
    }
   ],
   "source": [
    "# Shape of the selected data \n",
    "data.shape"
   ]
  },
  {
   "cell_type": "code",
   "execution_count": 11,
   "metadata": {},
   "outputs": [
    {
     "data": {
      "text/html": [
       "<div>\n",
       "<style scoped>\n",
       "    .dataframe tbody tr th:only-of-type {\n",
       "        vertical-align: middle;\n",
       "    }\n",
       "\n",
       "    .dataframe tbody tr th {\n",
       "        vertical-align: top;\n",
       "    }\n",
       "\n",
       "    .dataframe thead th {\n",
       "        text-align: right;\n",
       "    }\n",
       "</style>\n",
       "<table border=\"1\" class=\"dataframe\">\n",
       "  <thead>\n",
       "    <tr style=\"text-align: right;\">\n",
       "      <th></th>\n",
       "      <th>review_id</th>\n",
       "      <th>user_id</th>\n",
       "      <th>business_id</th>\n",
       "      <th>stars</th>\n",
       "      <th>useful</th>\n",
       "      <th>funny</th>\n",
       "      <th>cool</th>\n",
       "      <th>text</th>\n",
       "      <th>date</th>\n",
       "    </tr>\n",
       "  </thead>\n",
       "  <tbody>\n",
       "    <tr>\n",
       "      <th>299995</th>\n",
       "      <td>0-nk09u6gk4oonzcW4LgMQ</td>\n",
       "      <td>zJfJC--nT-xKLTzdyvroyw</td>\n",
       "      <td>aY-lZvoTHAFl9k6dcfcAxQ</td>\n",
       "      <td>5</td>\n",
       "      <td>0</td>\n",
       "      <td>0</td>\n",
       "      <td>0</td>\n",
       "      <td>Very delicious food and amazing service! I com...</td>\n",
       "      <td>2015-08-12 01:49:19</td>\n",
       "    </tr>\n",
       "    <tr>\n",
       "      <th>299996</th>\n",
       "      <td>gJwywVNsIfFlCKiBQj93uw</td>\n",
       "      <td>8nCmV4RMwf4GpaN-A_2Tfw</td>\n",
       "      <td>Khs3iUmkHce7xpAyOo5kRg</td>\n",
       "      <td>3</td>\n",
       "      <td>1</td>\n",
       "      <td>0</td>\n",
       "      <td>0</td>\n",
       "      <td>Sardella's is my favorite pizza chain in the v...</td>\n",
       "      <td>2012-08-23 16:54:00</td>\n",
       "    </tr>\n",
       "    <tr>\n",
       "      <th>299997</th>\n",
       "      <td>_0Q9Qg3CZJfuLTtH5KkxbA</td>\n",
       "      <td>nKdhohT1D6doq_v0ReBvzQ</td>\n",
       "      <td>m97jaBYRscg-hqDjMVIIWg</td>\n",
       "      <td>2</td>\n",
       "      <td>0</td>\n",
       "      <td>0</td>\n",
       "      <td>0</td>\n",
       "      <td>The Hostess was the worst. Not very inviting i...</td>\n",
       "      <td>2015-08-24 21:33:18</td>\n",
       "    </tr>\n",
       "    <tr>\n",
       "      <th>299998</th>\n",
       "      <td>uc_2Q_UvC0r0AZnERb1k4w</td>\n",
       "      <td>hHuDkGLAOTlR-lLCROotbA</td>\n",
       "      <td>Xs2iTWxbczvfEapAFH3cyw</td>\n",
       "      <td>5</td>\n",
       "      <td>0</td>\n",
       "      <td>1</td>\n",
       "      <td>0</td>\n",
       "      <td>Moved to a new neighborhood = hunt for a new b...</td>\n",
       "      <td>2015-10-23 02:06:21</td>\n",
       "    </tr>\n",
       "    <tr>\n",
       "      <th>299999</th>\n",
       "      <td>Q_2ppaCk3go14WNSXUB1Rg</td>\n",
       "      <td>usfq6zK3yG1IA0V5k6XHyQ</td>\n",
       "      <td>mP5qGYKMpy5WWe5BVN5dig</td>\n",
       "      <td>5</td>\n",
       "      <td>1</td>\n",
       "      <td>0</td>\n",
       "      <td>0</td>\n",
       "      <td>This is the best mechanic experience I have ha...</td>\n",
       "      <td>2017-01-07 00:34:54</td>\n",
       "    </tr>\n",
       "  </tbody>\n",
       "</table>\n",
       "</div>"
      ],
      "text/plain": [
       "                     review_id                 user_id  \\\n",
       "299995  0-nk09u6gk4oonzcW4LgMQ  zJfJC--nT-xKLTzdyvroyw   \n",
       "299996  gJwywVNsIfFlCKiBQj93uw  8nCmV4RMwf4GpaN-A_2Tfw   \n",
       "299997  _0Q9Qg3CZJfuLTtH5KkxbA  nKdhohT1D6doq_v0ReBvzQ   \n",
       "299998  uc_2Q_UvC0r0AZnERb1k4w  hHuDkGLAOTlR-lLCROotbA   \n",
       "299999  Q_2ppaCk3go14WNSXUB1Rg  usfq6zK3yG1IA0V5k6XHyQ   \n",
       "\n",
       "                   business_id  stars  useful  funny  cool  \\\n",
       "299995  aY-lZvoTHAFl9k6dcfcAxQ      5       0      0     0   \n",
       "299996  Khs3iUmkHce7xpAyOo5kRg      3       1      0     0   \n",
       "299997  m97jaBYRscg-hqDjMVIIWg      2       0      0     0   \n",
       "299998  Xs2iTWxbczvfEapAFH3cyw      5       0      1     0   \n",
       "299999  mP5qGYKMpy5WWe5BVN5dig      5       1      0     0   \n",
       "\n",
       "                                                     text                date  \n",
       "299995  Very delicious food and amazing service! I com... 2015-08-12 01:49:19  \n",
       "299996  Sardella's is my favorite pizza chain in the v... 2012-08-23 16:54:00  \n",
       "299997  The Hostess was the worst. Not very inviting i... 2015-08-24 21:33:18  \n",
       "299998  Moved to a new neighborhood = hunt for a new b... 2015-10-23 02:06:21  \n",
       "299999  This is the best mechanic experience I have ha... 2017-01-07 00:34:54  "
      ]
     },
     "execution_count": 11,
     "metadata": {},
     "output_type": "execute_result"
    }
   ],
   "source": [
    "# Last 5 rows of the data\n",
    "data.tail()"
   ]
  },
  {
   "cell_type": "code",
   "execution_count": 12,
   "metadata": {},
   "outputs": [
    {
     "data": {
      "text/plain": [
       "\"The food has always been good and the service just keeps getting better.  They recently remodeled the building, so it's very modern/clean looking.  They always give you a heaping mound of each dish, so you never feel you're not getting your money's worth.  There's an extra $0.50 or $1.00 for some of the more premium items (shrimp, added bacon, etc) but it's always worth it.  I wouldn't want to eat there every day, but I'm always happy when I get the chance.\""
      ]
     },
     "execution_count": 12,
     "metadata": {},
     "output_type": "execute_result"
    }
   ],
   "source": [
    "# Review comment of a random record\n",
    "\n",
    "data.iloc[3456,7]\n"
   ]
  },
  {
   "cell_type": "code",
   "execution_count": 13,
   "metadata": {},
   "outputs": [
    {
     "name": "stdout",
     "output_type": "stream",
     "text": [
      "Count of different ratings:\n",
      "  stars\n",
      "1     41433\n",
      "2     24493\n",
      "3     33588\n",
      "4     68426\n",
      "5    132060\n",
      "dtype: int64\n"
     ]
    },
    {
     "data": {
      "image/png": "[encoded data removed]",
      "text/plain": [
       "<Figure size 432x288 with 1 Axes>"
      ]
     },
     "metadata": {
      "needs_background": "light"
     },
     "output_type": "display_data"
    }
   ],
   "source": [
    "\n",
    "r=data.groupby('stars').size()\n",
    "print(\"Count of different ratings:\\n \",r)\n",
    "r.plot.bar(color='brown');\n",
    "\n",
    "# Data is unbalanced with less records with ratings 2 and 3 and maximum of rating 5"
   ]
  },
  {
   "cell_type": "code",
   "execution_count": 14,
   "metadata": {},
   "outputs": [
    {
     "data": {
      "text/plain": [
       "(100764, 9)"
      ]
     },
     "execution_count": 14,
     "metadata": {},
     "output_type": "execute_result"
    }
   ],
   "source": [
    "# Balancing the data, considering ratings would be clubbed later on\n",
    "\n",
    "d1=data[data.stars==1].sample(16794, replace=False)\n",
    "d2=data[data.stars==2].sample(16794, replace=False)\n",
    "d3=data[data.stars==3].sample(33588, replace=False)\n",
    "d4=data[data.stars==4].sample(16794, replace=False)\n",
    "d5=data[data.stars==5].sample(16794, replace=False)\n",
    "\n",
    "data=pd.concat([d1,d2,d3,d4,d5])\n",
    "\n",
    "data.shape"
   ]
  },
  {
   "cell_type": "code",
   "execution_count": 15,
   "metadata": {},
   "outputs": [],
   "source": [
    "pd.options.display.float_format = '{:,.2f}'.format"
   ]
  },
  {
   "cell_type": "code",
   "execution_count": 16,
   "metadata": {},
   "outputs": [
    {
     "data": {
      "text/html": [
       "<div>\n",
       "<style scoped>\n",
       "    .dataframe tbody tr th:only-of-type {\n",
       "        vertical-align: middle;\n",
       "    }\n",
       "\n",
       "    .dataframe tbody tr th {\n",
       "        vertical-align: top;\n",
       "    }\n",
       "\n",
       "    .dataframe thead th {\n",
       "        text-align: right;\n",
       "    }\n",
       "</style>\n",
       "<table border=\"1\" class=\"dataframe\">\n",
       "  <thead>\n",
       "    <tr style=\"text-align: right;\">\n",
       "      <th></th>\n",
       "      <th>stars</th>\n",
       "      <th>useful</th>\n",
       "      <th>funny</th>\n",
       "      <th>cool</th>\n",
       "    </tr>\n",
       "  </thead>\n",
       "  <tbody>\n",
       "    <tr>\n",
       "      <th>count</th>\n",
       "      <td>100,764.00</td>\n",
       "      <td>100,764.00</td>\n",
       "      <td>100,764.00</td>\n",
       "      <td>100,764.00</td>\n",
       "    </tr>\n",
       "    <tr>\n",
       "      <th>mean</th>\n",
       "      <td>3.00</td>\n",
       "      <td>1.18</td>\n",
       "      <td>0.43</td>\n",
       "      <td>0.42</td>\n",
       "    </tr>\n",
       "    <tr>\n",
       "      <th>std</th>\n",
       "      <td>1.29</td>\n",
       "      <td>2.34</td>\n",
       "      <td>1.38</td>\n",
       "      <td>1.30</td>\n",
       "    </tr>\n",
       "    <tr>\n",
       "      <th>min</th>\n",
       "      <td>1.00</td>\n",
       "      <td>0.00</td>\n",
       "      <td>0.00</td>\n",
       "      <td>0.00</td>\n",
       "    </tr>\n",
       "    <tr>\n",
       "      <th>25%</th>\n",
       "      <td>2.00</td>\n",
       "      <td>0.00</td>\n",
       "      <td>0.00</td>\n",
       "      <td>0.00</td>\n",
       "    </tr>\n",
       "    <tr>\n",
       "      <th>50%</th>\n",
       "      <td>3.00</td>\n",
       "      <td>0.00</td>\n",
       "      <td>0.00</td>\n",
       "      <td>0.00</td>\n",
       "    </tr>\n",
       "    <tr>\n",
       "      <th>75%</th>\n",
       "      <td>4.00</td>\n",
       "      <td>1.00</td>\n",
       "      <td>0.00</td>\n",
       "      <td>0.00</td>\n",
       "    </tr>\n",
       "    <tr>\n",
       "      <th>max</th>\n",
       "      <td>5.00</td>\n",
       "      <td>73.00</td>\n",
       "      <td>66.00</td>\n",
       "      <td>54.00</td>\n",
       "    </tr>\n",
       "  </tbody>\n",
       "</table>\n",
       "</div>"
      ],
      "text/plain": [
       "           stars     useful      funny       cool\n",
       "count 100,764.00 100,764.00 100,764.00 100,764.00\n",
       "mean        3.00       1.18       0.43       0.42\n",
       "std         1.29       2.34       1.38       1.30\n",
       "min         1.00       0.00       0.00       0.00\n",
       "25%         2.00       0.00       0.00       0.00\n",
       "50%         3.00       0.00       0.00       0.00\n",
       "75%         4.00       1.00       0.00       0.00\n",
       "max         5.00      73.00      66.00      54.00"
      ]
     },
     "execution_count": 16,
     "metadata": {},
     "output_type": "execute_result"
    }
   ],
   "source": [
    "data.describe()\n",
    "\n",
    "# Data is categorical, so not much useful info gained apart from the range"
   ]
  },
  {
   "cell_type": "markdown",
   "metadata": {},
   "source": [
    "#### Pre-processing the Text"
   ]
  },
  {
   "cell_type": "code",
   "execution_count": 17,
   "metadata": {},
   "outputs": [],
   "source": [
    "# Function to remove the word contractions, like convert isn't to is not\n",
    "def decontracted(phrase):\n",
    "    # specific\n",
    "    phrase = re.sub(r\"won\\'t\", \"will not\", phrase)\n",
    "    phrase = re.sub(r\"can\\'t\", \"can not\", phrase)\n",
    "    phrase = re.sub(r\"ain\\'t\", \"am not\", phrase) \n",
    "    \n",
    "    # general\n",
    "    phrase = re.sub(r\"n\\'t\", \" not\", phrase)\n",
    "    phrase = re.sub(r\"\\'re\", \" are\", phrase)\n",
    "    phrase = re.sub(r\"\\'s\", \" is\", phrase)\n",
    "    phrase = re.sub(r\"\\'d\", \" would\", phrase)\n",
    "    phrase = re.sub(r\"\\'ll\", \" will\", phrase)\n",
    "    phrase = re.sub(r\"\\'t\", \" not\", phrase)\n",
    "    phrase = re.sub(r\"\\'ve\", \" have\", phrase)\n",
    "    phrase = re.sub(r\"\\'m\", \" am\", phrase)\n",
    "    return phrase"
   ]
  },
  {
   "cell_type": "code",
   "execution_count": 18,
   "metadata": {},
   "outputs": [],
   "source": [
    "def get_wordnet_pos(treebank_tag):\n",
    "    if treebank_tag.startswith('J'):\n",
    "        return wordnet.ADJ\n",
    "    elif treebank_tag.startswith('V'):\n",
    "        return wordnet.VERB\n",
    "    elif treebank_tag.startswith('N'):\n",
    "        return wordnet.NOUN\n",
    "    elif treebank_tag.startswith('R'):\n",
    "        return wordnet.ADV\n",
    "    else:\n",
    "        return None"
   ]
  },
  {
   "cell_type": "code",
   "execution_count": 19,
   "metadata": {},
   "outputs": [],
   "source": [
    "# Function to lemmatize - converting a word to its root\n",
    "def lemmatise(phrase):\n",
    "    arr=[]\n",
    "    t=pos_tag(word_tokenize(phrase))\n",
    "    for a in t:\n",
    "        postag=get_wordnet_pos(a[1])\n",
    "        if not postag:\n",
    "            continue\n",
    "        p=nltk.stem.WordNetLemmatizer().lemmatize(a[0],pos=postag)\n",
    "        arr.append(p)\n",
    "    return arr"
   ]
  },
  {
   "cell_type": "code",
   "execution_count": 20,
   "metadata": {},
   "outputs": [],
   "source": [
    "# Function to remove stopwords excluding the negations like not, no \n",
    "\n",
    "def rem_stopwords(phrase):\n",
    "    sw=stopwords.words('english')\n",
    "    sw.remove('no')\n",
    "    sw.remove('not')\n",
    "    sw.remove('nor')\n",
    "    phrase = [word for word in phrase if word not in sw]\n",
    "    return phrase"
   ]
  },
  {
   "cell_type": "code",
   "execution_count": 21,
   "metadata": {},
   "outputs": [],
   "source": [
    "\n",
    "\n",
    "def text_cleanup(text):\n",
    "    \n",
    "    text= decontracted(text)\n",
    "    text = re.sub(r'[^\\w\\s]', '', str(text).lower()) # Regex to remove punctuations and convert to lowercase\n",
    "    text=lemmatise(text)\n",
    "    text=rem_stopwords(text)\n",
    "    text = \" \".join(text)\n",
    "    return text"
   ]
  },
  {
   "cell_type": "code",
   "execution_count": 22,
   "metadata": {},
   "outputs": [],
   "source": [
    "# Cleaning the text to whole of the dataset\n",
    "data['text_clean']=data['text'].apply(lambda x: text_cleanup(x))"
   ]
  },
  {
   "cell_type": "code",
   "execution_count": 23,
   "metadata": {},
   "outputs": [],
   "source": [
    "# Removing all columns except processed text and ratings\n",
    "\n",
    "data.drop(['review_id','user_id','date','business_id','text','useful','funny','cool'],axis=1,inplace=True);"
   ]
  },
  {
   "cell_type": "code",
   "execution_count": 24,
   "metadata": {},
   "outputs": [
    {
     "data": {
      "text/html": [
       "<div>\n",
       "<style scoped>\n",
       "    .dataframe tbody tr th:only-of-type {\n",
       "        vertical-align: middle;\n",
       "    }\n",
       "\n",
       "    .dataframe tbody tr th {\n",
       "        vertical-align: top;\n",
       "    }\n",
       "\n",
       "    .dataframe thead th {\n",
       "        text-align: right;\n",
       "    }\n",
       "</style>\n",
       "<table border=\"1\" class=\"dataframe\">\n",
       "  <thead>\n",
       "    <tr style=\"text-align: right;\">\n",
       "      <th></th>\n",
       "      <th>stars</th>\n",
       "      <th>text_clean</th>\n",
       "    </tr>\n",
       "  </thead>\n",
       "  <tbody>\n",
       "    <tr>\n",
       "      <th>148616</th>\n",
       "      <td>1</td>\n",
       "      <td>work medical office currently pa school good i...</td>\n",
       "    </tr>\n",
       "    <tr>\n",
       "      <th>101477</th>\n",
       "      <td>1</td>\n",
       "      <td>eat group town idea restaurant close minute se...</td>\n",
       "    </tr>\n",
       "    <tr>\n",
       "      <th>295165</th>\n",
       "      <td>1</td>\n",
       "      <td>wait minute get help meanwhile associate stand...</td>\n",
       "    </tr>\n",
       "    <tr>\n",
       "      <th>276523</th>\n",
       "      <td>1</td>\n",
       "      <td>dislike store salon customer service mediocre ...</td>\n",
       "    </tr>\n",
       "    <tr>\n",
       "      <th>171844</th>\n",
       "      <td>1</td>\n",
       "      <td>single horrific transportation experience life...</td>\n",
       "    </tr>\n",
       "  </tbody>\n",
       "</table>\n",
       "</div>"
      ],
      "text/plain": [
       "        stars                                         text_clean\n",
       "148616      1  work medical office currently pa school good i...\n",
       "101477      1  eat group town idea restaurant close minute se...\n",
       "295165      1  wait minute get help meanwhile associate stand...\n",
       "276523      1  dislike store salon customer service mediocre ...\n",
       "171844      1  single horrific transportation experience life..."
      ]
     },
     "execution_count": 24,
     "metadata": {},
     "output_type": "execute_result"
    }
   ],
   "source": [
    "data.head()"
   ]
  },
  {
   "cell_type": "code",
   "execution_count": 25,
   "metadata": {},
   "outputs": [],
   "source": [
    "# Seperating feature and label\n",
    "X=data.loc[:,'text_clean']\n",
    "y=data.loc[:,'stars']"
   ]
  },
  {
   "cell_type": "code",
   "execution_count": 26,
   "metadata": {},
   "outputs": [],
   "source": [
    "# Combining classes with final 3 class of ratings - 0, 1 and 2, not used one hot encoding to maintain ordinality\n",
    "result = y.replace(to_replace = [1,2], value = 0, inplace=True) \n",
    "result = y.replace(to_replace = [4,5], value = 2, inplace=True) \n",
    "result = y.replace(to_replace = [3], value = 1, inplace=True) "
   ]
  },
  {
   "cell_type": "code",
   "execution_count": 27,
   "metadata": {},
   "outputs": [
    {
     "data": {
      "text/plain": [
       "2    33588\n",
       "1    33588\n",
       "0    33588\n",
       "Name: stars, dtype: int64"
      ]
     },
     "execution_count": 27,
     "metadata": {},
     "output_type": "execute_result"
    }
   ],
   "source": [
    "# Count of different ratings - data is balanced\n",
    "y.value_counts()"
   ]
  },
  {
   "cell_type": "code",
   "execution_count": 28,
   "metadata": {},
   "outputs": [],
   "source": [
    "# Splitting the data into training, testing and validation sets\n",
    "X_train, X_test, y_train, y_test = train_test_split(X, y, test_size=0.2, random_state=42, stratify=y)\n",
    "X_train, X_val, y_train, y_val = train_test_split(X_train, y_train, test_size=0.2)"
   ]
  },
  {
   "cell_type": "code",
   "execution_count": 30,
   "metadata": {},
   "outputs": [],
   "source": [
    "X_train=X_train.to_numpy()\n",
    "y_train=y_train.to_numpy()\n",
    "X_val=X_val.to_numpy()\n",
    "y_val=y_val.to_numpy()\n",
    "X_test=X_test.to_numpy()\n",
    "y_test=y_test.to_numpy()\n"
   ]
  },
  {
   "cell_type": "code",
   "execution_count": 31,
   "metadata": {},
   "outputs": [
    {
     "name": "stdout",
     "output_type": "stream",
     "text": [
      "(64488,)\n"
     ]
    }
   ],
   "source": [
    "#Shape of training data\n",
    "print((X_train).shape)"
   ]
  },
  {
   "cell_type": "code",
   "execution_count": 32,
   "metadata": {},
   "outputs": [],
   "source": [
    "# Building vocabulary from the training dataset as words\n",
    "t=Tokenizer(num_words=50000)\n",
    "t.fit_on_texts(X_train)\n"
   ]
  },
  {
   "cell_type": "code",
   "execution_count": 33,
   "metadata": {},
   "outputs": [
    {
     "name": "stdout",
     "output_type": "stream",
     "text": [
      "Vocabulary length:  75806\n",
      "\n",
      "Key:  worth Value:  316\n"
     ]
    }
   ],
   "source": [
    "print(\"Vocabulary length: \", len(t.word_index))\n",
    "\n",
    "# Finding location of a word in vocabulary for demo purpose\n",
    "for key, values in t.word_index.items():\n",
    "    if key=='worth' :\n",
    "        print(\"\\nKey: \", key, \"Value: \",values)"
   ]
  },
  {
   "cell_type": "code",
   "execution_count": 34,
   "metadata": {},
   "outputs": [
    {
     "name": "stdout",
     "output_type": "stream",
     "text": [
      "Total number of words encoded as numbers in the first document:  14\n"
     ]
    }
   ],
   "source": [
    "# Encoding the documents based on the vocabulary\n",
    "encoded_train=t.texts_to_sequences(X_train)\n",
    "\n",
    "print(\"Total number of words encoded as numbers in the first document: \",len(encoded_train[0]))"
   ]
  },
  {
   "cell_type": "code",
   "execution_count": 35,
   "metadata": {},
   "outputs": [
    {
     "name": "stdout",
     "output_type": "stream",
     "text": [
      "Total number of words encoded as numbers in the first document:  510\n"
     ]
    }
   ],
   "source": [
    "# Padding the documents to make al documents of equal length by appending zeros at the end \n",
    "padded_train = pad_sequences(encoded_train, padding='post')\n",
    "print(\"Total number of words encoded as numbers in the first document: \",len(padded_train[0]))"
   ]
  },
  {
   "cell_type": "code",
   "execution_count": 36,
   "metadata": {},
   "outputs": [
    {
     "data": {
      "text/plain": [
       "array([[  69,  241, 2045, ...,    0,    0,    0],\n",
       "       [ 464,   49,  109, ...,    0,    0,    0],\n",
       "       [  43,   98,  454, ...,    0,    0,    0],\n",
       "       ...,\n",
       "       [   1,  551, 2948, ...,    0,    0,    0],\n",
       "       [   1,  116,  159, ...,    0,    0,    0],\n",
       "       [  39, 5401, 1013, ...,    0,    0,    0]])"
      ]
     },
     "execution_count": 36,
     "metadata": {},
     "output_type": "execute_result"
    }
   ],
   "source": [
    "# Training data set after text pre-processing\n",
    "padded_train"
   ]
  },
  {
   "cell_type": "code",
   "execution_count": 37,
   "metadata": {},
   "outputs": [
    {
     "name": "stdout",
     "output_type": "stream",
     "text": [
      "Shape of post-processed training dataset:  (64488, 510)\n"
     ]
    }
   ],
   "source": [
    "print(\"Shape of post-processed training dataset: \",(padded_train.shape))"
   ]
  },
  {
   "cell_type": "code",
   "execution_count": 38,
   "metadata": {},
   "outputs": [
    {
     "name": "stdout",
     "output_type": "stream",
     "text": [
      "Shape of post-processed validation dataset:  (16123, 510)\n",
      "Shape of post-processed testing dataset:  (20153, 510)\n"
     ]
    }
   ],
   "source": [
    "# Similarly processing validation and testing dataset\n",
    "\n",
    "encoded_val=t.texts_to_sequences(X_val) # fit is performed only for training dataset\n",
    "padded_val = pad_sequences(encoded_val, padding='post', maxlen=padded_train.shape[1])\n",
    "\n",
    "print(\"Shape of post-processed validation dataset: \",(padded_val.shape))\n",
    "\n",
    "encoded_test=t.texts_to_sequences(X_test) # fit is performed only for training dataset\n",
    "padded_test = pad_sequences(encoded_test, padding='post', maxlen=padded_train.shape[1])\n",
    "\n",
    "print(\"Shape of post-processed testing dataset: \",(padded_test.shape))\n"
   ]
  },
  {
   "cell_type": "markdown",
   "metadata": {},
   "source": [
    "#### Building Model"
   ]
  },
  {
   "cell_type": "code",
   "execution_count": 39,
   "metadata": {},
   "outputs": [],
   "source": [
    "# Bulding model using Keras - Embedding and Dense NN with Regularizers to prevent over-fitting\n",
    "model1 = Sequential([\n",
    "  Embedding(input_dim=50001, output_dim=16,input_length=padded_train.shape[1], embeddings_regularizer=regularizers.l2(0.001)),\n",
    "    Flatten(),\n",
    "  Dense(128, activation='relu', kernel_regularizer=regularizers.l2(0.001),bias_regularizer=regularizers.l2(0.001)),\n",
    "  Dense(3, activation='softmax')\n",
    "])"
   ]
  },
  {
   "cell_type": "code",
   "execution_count": 40,
   "metadata": {},
   "outputs": [
    {
     "name": "stdout",
     "output_type": "stream",
     "text": [
      "Model: \"sequential\"\n",
      "_________________________________________________________________\n",
      "Layer (type)                 Output Shape              Param #   \n",
      "=================================================================\n",
      "embedding (Embedding)        (None, 510, 16)           800016    \n",
      "_________________________________________________________________\n",
      "flatten (Flatten)            (None, 8160)              0         \n",
      "_________________________________________________________________\n",
      "dense (Dense)                (None, 128)               1044608   \n",
      "_________________________________________________________________\n",
      "dense_1 (Dense)              (None, 3)                 387       \n",
      "=================================================================\n",
      "Total params: 1,845,011\n",
      "Trainable params: 1,845,011\n",
      "Non-trainable params: 0\n",
      "_________________________________________________________________\n"
     ]
    }
   ],
   "source": [
    "model1.summary()"
   ]
  },
  {
   "cell_type": "code",
   "execution_count": 42,
   "metadata": {},
   "outputs": [],
   "source": [
    "model1.compile(optimizer='adam',\n",
    "              loss=\"sparse_categorical_crossentropy\",\n",
    "              metrics=['accuracy'])"
   ]
  },
  {
   "cell_type": "code",
   "execution_count": 43,
   "metadata": {},
   "outputs": [
    {
     "name": "stdout",
     "output_type": "stream",
     "text": [
      "Epoch 1/8\n",
      "504/504 [==============================] - 29s 58ms/step - loss: 0.8809 - accuracy: 0.6434 - val_loss: 0.7668 - val_accuracy: 0.7068\n",
      "Epoch 2/8\n",
      "504/504 [==============================] - 32s 64ms/step - loss: 0.7543 - accuracy: 0.7188 - val_loss: 0.7604 - val_accuracy: 0.7115\n",
      "Epoch 3/8\n",
      "504/504 [==============================] - 37s 74ms/step - loss: 0.7393 - accuracy: 0.7280 - val_loss: 0.7555 - val_accuracy: 0.7164\n",
      "Epoch 4/8\n",
      "504/504 [==============================] - 37s 74ms/step - loss: 0.7300 - accuracy: 0.7357 - val_loss: 0.7599 - val_accuracy: 0.7179\n",
      "Epoch 5/8\n",
      "504/504 [==============================] - 37s 74ms/step - loss: 0.7233 - accuracy: 0.7440 - val_loss: 0.7934 - val_accuracy: 0.7056\n",
      "Epoch 6/8\n",
      "504/504 [==============================] - 32s 64ms/step - loss: 0.7153 - accuracy: 0.7602 - val_loss: 0.8063 - val_accuracy: 0.7061 0.7154 - accuracy: \n"
     ]
    }
   ],
   "source": [
    "from tensorflow.keras.callbacks import EarlyStopping\n",
    "\n",
    "early_stopping = EarlyStopping(patience=3)\n",
    "\n",
    "\n",
    "history=model1.fit(padded_train, y_train, epochs=8, batch_size=128, validation_data=(padded_val, y_val), callbacks=[early_stopping])"
   ]
  },
  {
   "cell_type": "code",
   "execution_count": 44,
   "metadata": {
    "scrolled": true
   },
   "outputs": [
    {
     "name": "stdout",
     "output_type": "stream",
     "text": [
      "dict_keys(['loss', 'accuracy', 'val_loss', 'val_accuracy'])\n"
     ]
    },
    {
     "data": {
      "image/png": "[encoded data removed]",
      "text/plain": [
       "<Figure size 432x288 with 1 Axes>"
      ]
     },
     "metadata": {
      "needs_background": "light"
     },
     "output_type": "display_data"
    }
   ],
   "source": [
    "print(history.history.keys())\n",
    "#summarize history for accuracy\n",
    "plt.plot(history.history['accuracy'])\n",
    "plt.plot(history.history['val_accuracy'])\n",
    "plt.title('model accuracy')\n",
    "plt.ylabel('accuracy')\n",
    "plt.xlabel('epoch')\n",
    "plt.legend(['train', 'validation'], loc='upper left')\n",
    "plt.show()"
   ]
  },
  {
   "cell_type": "code",
   "execution_count": 45,
   "metadata": {
    "scrolled": false
   },
   "outputs": [
    {
     "name": "stdout",
     "output_type": "stream",
     "text": [
      "630/630 [==============================] - 7s 11ms/step - loss: 0.8105 - accuracy: 0.7046\n"
     ]
    },
    {
     "data": {
      "text/plain": [
       "[0.8105441331863403, 0.704609751701355]"
      ]
     },
     "execution_count": 45,
     "metadata": {},
     "output_type": "execute_result"
    }
   ],
   "source": [
    "model1.evaluate(padded_test,y_test)"
   ]
  },
  {
   "cell_type": "code",
   "execution_count": 46,
   "metadata": {},
   "outputs": [],
   "source": [
    "y_pred=np.argmax(model1.predict(padded_test), axis=-1)"
   ]
  },
  {
   "cell_type": "code",
   "execution_count": 47,
   "metadata": {},
   "outputs": [
    {
     "name": "stdout",
     "output_type": "stream",
     "text": [
      "              precision    recall  f1-score   support\n",
      "\n",
      "           0       0.76      0.75      0.75      6717\n",
      "           1       0.61      0.55      0.58      6718\n",
      "           2       0.73      0.82      0.77      6718\n",
      "\n",
      "    accuracy                           0.70     20153\n",
      "   macro avg       0.70      0.70      0.70     20153\n",
      "weighted avg       0.70      0.70      0.70     20153\n",
      "\n"
     ]
    }
   ],
   "source": [
    "print(metrics.classification_report(y_test,y_pred))"
   ]
  },
  {
   "cell_type": "markdown",
   "metadata": {},
   "source": [
    "### Predicitng a single review"
   ]
  },
  {
   "cell_type": "code",
   "execution_count": 48,
   "metadata": {},
   "outputs": [
    {
     "name": "stdout",
     "output_type": "stream",
     "text": [
      "Text after initial clean up:\n",
      "  product different order product know pure oil colour yellow instead orange\n"
     ]
    }
   ],
   "source": [
    "string=\"This product is different. I have ordered this product before and I know that pure oil's colour is yellow instead of orange.\"\n",
    "\n",
    "str_clean=(text_cleanup(string))\n",
    "\n",
    "print(\"Text after initial clean up:\\n \",(str_clean))\n",
    "str_clean=text_to_word_sequence(str_clean)\n",
    "encoded_test_str=t.texts_to_sequences(str_clean)\n",
    "encoded_test_str=np.array(encoded_test_str)\n",
    "encoded_test_str=encoded_test_str.reshape(1,11)\n",
    "padded_test_str=pad_sequences(encoded_test_str, padding='post', maxlen=padded_train.shape[1])"
   ]
  },
  {
   "cell_type": "code",
   "execution_count": 49,
   "metadata": {},
   "outputs": [
    {
     "name": "stdout",
     "output_type": "stream",
     "text": [
      "Shape of final processed data:  (1, 510)\n"
     ]
    }
   ],
   "source": [
    "print(\"Shape of final processed data: \", padded_test_str.shape)"
   ]
  },
  {
   "cell_type": "code",
   "execution_count": 50,
   "metadata": {},
   "outputs": [
    {
     "data": {
      "text/plain": [
       "array([[0.27, 0.26, 0.47]], dtype=float32)"
      ]
     },
     "execution_count": 50,
     "metadata": {},
     "output_type": "execute_result"
    }
   ],
   "source": [
    "# Predicting probabilities of all classes from a few input images \n",
    "y_prob = model1.predict(padded_test_str)\n",
    "y_prob.round(2)\n",
    "\n",
    "# This review is classified as 1, i.e. Good"
   ]
  },
  {
   "cell_type": "code",
   "execution_count": 52,
   "metadata": {},
   "outputs": [],
   "source": [
    "from keras import backend as K\n",
    "K.clear_session()"
   ]
  },
  {
   "cell_type": "markdown",
   "metadata": {},
   "source": [
    "#### Using CNN"
   ]
  },
  {
   "cell_type": "code",
   "execution_count": 53,
   "metadata": {},
   "outputs": [],
   "source": [
    "model2 = Sequential([\n",
    "  Embedding(input_dim=50001, output_dim=16,input_length=padded_train.shape[1]),\n",
    "  Dropout(0.5),\n",
    "    Conv1D(filters=32, kernel_size=3, strides=1, padding=\"valid\", activation='relu'),\n",
    "    MaxPooling1D(pool_size=2),\n",
    "    Conv1D(filters=16, kernel_size=3, strides=1, padding=\"valid\", activation='relu'),\n",
    "    MaxPooling1D(), \n",
    "    Flatten(),\n",
    "  Dense(32, activation='relu'),\n",
    "  Dropout(0.5),\n",
    "  Dense(3, activation='softmax')\n",
    "])"
   ]
  },
  {
   "cell_type": "code",
   "execution_count": 54,
   "metadata": {},
   "outputs": [
    {
     "name": "stdout",
     "output_type": "stream",
     "text": [
      "Model: \"sequential\"\n",
      "_________________________________________________________________\n",
      "Layer (type)                 Output Shape              Param #   \n",
      "=================================================================\n",
      "embedding (Embedding)        (None, 510, 16)           800016    \n",
      "_________________________________________________________________\n",
      "dropout (Dropout)            (None, 510, 16)           0         \n",
      "_________________________________________________________________\n",
      "conv1d (Conv1D)              (None, 508, 32)           1568      \n",
      "_________________________________________________________________\n",
      "max_pooling1d (MaxPooling1D) (None, 254, 32)           0         \n",
      "_________________________________________________________________\n",
      "conv1d_1 (Conv1D)            (None, 252, 16)           1552      \n",
      "_________________________________________________________________\n",
      "max_pooling1d_1 (MaxPooling1 (None, 126, 16)           0         \n",
      "_________________________________________________________________\n",
      "flatten (Flatten)            (None, 2016)              0         \n",
      "_________________________________________________________________\n",
      "dense (Dense)                (None, 32)                64544     \n",
      "_________________________________________________________________\n",
      "dropout_1 (Dropout)          (None, 32)                0         \n",
      "_________________________________________________________________\n",
      "dense_1 (Dense)              (None, 3)                 99        \n",
      "=================================================================\n",
      "Total params: 867,779\n",
      "Trainable params: 867,779\n",
      "Non-trainable params: 0\n",
      "_________________________________________________________________\n"
     ]
    }
   ],
   "source": [
    "model2.summary()"
   ]
  },
  {
   "cell_type": "code",
   "execution_count": 55,
   "metadata": {},
   "outputs": [],
   "source": [
    "model2.compile(optimizer='adam',\n",
    "              loss=\"sparse_categorical_crossentropy\",\n",
    "              metrics=['accuracy'])"
   ]
  },
  {
   "cell_type": "code",
   "execution_count": 56,
   "metadata": {},
   "outputs": [
    {
     "name": "stdout",
     "output_type": "stream",
     "text": [
      "Epoch 1/8\n",
      "504/504 [==============================] - 79s 157ms/step - loss: 0.8971 - accuracy: 0.5561 - val_loss: 0.7017 - val_accuracy: 0.6773\n",
      "Epoch 2/8\n",
      "504/504 [==============================] - 87s 172ms/step - loss: 0.7054 - accuracy: 0.6825 - val_loss: 0.6945 - val_accuracy: 0.6742\n",
      "Epoch 3/8\n",
      "504/504 [==============================] - 89s 177ms/step - loss: 0.6567 - accuracy: 0.7101 - val_loss: 0.6877 - val_accuracy: 0.6811\n",
      "Epoch 4/8\n",
      "504/504 [==============================] - 86s 171ms/step - loss: 0.6237 - accuracy: 0.7266 - val_loss: 0.6757 - val_accuracy: 0.6867\n",
      "Epoch 5/8\n",
      "504/504 [==============================] - 87s 172ms/step - loss: 0.5933 - accuracy: 0.7435 - val_loss: 0.7255 - val_accuracy: 0.6721\n",
      "Epoch 6/8\n",
      "504/504 [==============================] - 84s 167ms/step - loss: 0.5701 - accuracy: 0.7553 - val_loss: 0.7141 - val_accuracy: 0.6836\n",
      "Epoch 7/8\n",
      "504/504 [==============================] - 74s 146ms/step - loss: 0.5423 - accuracy: 0.7727 - val_loss: 0.6916 - val_accuracy: 0.6971\n"
     ]
    }
   ],
   "source": [
    "from tensorflow.keras.callbacks import EarlyStopping\n",
    "\n",
    "early_stopping = EarlyStopping(patience=3)\n",
    "\n",
    "\n",
    "result=model2.fit(padded_train, y_train, epochs=8, batch_size=128, validation_data=(padded_val, y_val), callbacks=[early_stopping])"
   ]
  },
  {
   "cell_type": "code",
   "execution_count": 57,
   "metadata": {},
   "outputs": [
    {
     "name": "stdout",
     "output_type": "stream",
     "text": [
      "dict_keys(['loss', 'accuracy', 'val_loss', 'val_accuracy'])\n"
     ]
    },
    {
     "data": {
      "image/png": "[encoded data removed]",
      "text/plain": [
       "<Figure size 432x288 with 1 Axes>"
      ]
     },
     "metadata": {
      "needs_background": "light"
     },
     "output_type": "display_data"
    }
   ],
   "source": [
    "print(result.history.keys())\n",
    "#summarize history for accuracy\n",
    "plt.plot(result.history['accuracy'])\n",
    "plt.plot(result.history['val_accuracy'])\n",
    "plt.title('model accuracy')\n",
    "plt.ylabel('accuracy')\n",
    "plt.xlabel('epoch')\n",
    "plt.legend(['train', 'validation'], loc='upper left')\n",
    "plt.show()"
   ]
  },
  {
   "cell_type": "code",
   "execution_count": 59,
   "metadata": {},
   "outputs": [
    {
     "name": "stdout",
     "output_type": "stream",
     "text": [
      "630/630 [==============================] - 6s 9ms/step - loss: 0.7028 - accuracy: 0.6962\n"
     ]
    },
    {
     "data": {
      "text/plain": [
       "[0.7027720212936401, 0.6961742639541626]"
      ]
     },
     "execution_count": 59,
     "metadata": {},
     "output_type": "execute_result"
    }
   ],
   "source": [
    "model2.evaluate(padded_test,y_test)"
   ]
  },
  {
   "cell_type": "code",
   "execution_count": 61,
   "metadata": {},
   "outputs": [],
   "source": [
    "y_pred2=np.argmax(model2.predict(padded_test), axis=-1)"
   ]
  },
  {
   "cell_type": "code",
   "execution_count": 62,
   "metadata": {},
   "outputs": [
    {
     "name": "stdout",
     "output_type": "stream",
     "text": [
      "              precision    recall  f1-score   support\n",
      "\n",
      "           0       0.81      0.65      0.72      6717\n",
      "           1       0.56      0.63      0.59      6718\n",
      "           2       0.76      0.81      0.78      6718\n",
      "\n",
      "    accuracy                           0.70     20153\n",
      "   macro avg       0.71      0.70      0.70     20153\n",
      "weighted avg       0.71      0.70      0.70     20153\n",
      "\n"
     ]
    }
   ],
   "source": [
    "print(metrics.classification_report(y_test,y_pred2))"
   ]
  },
  {
   "cell_type": "markdown",
   "metadata": {},
   "source": [
    "### Conclusion"
   ]
  },
  {
   "cell_type": "markdown",
   "metadata": {},
   "source": [
    "Text Classification using Keras Embedding - with CNN and with Dense NN gives approx same accuracy, precision and recall. "
   ]
  }
 ],
 "metadata": {
  "kernelspec": {
   "display_name": "Python 3",
   "language": "python",
   "name": "python3"
  },
  "language_info": {
   "codemirror_mode": {
    "name": "ipython",
    "version": 3
   },
   "file_extension": ".py",
   "mimetype": "text/x-python",
   "name": "python",
   "nbconvert_exporter": "python",
   "pygments_lexer": "ipython3",
   "version": "3.7.6"
  }
 },
 "nbformat": 4,
 "nbformat_minor": 4
}
